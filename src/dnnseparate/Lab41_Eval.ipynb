{
 "cells": [
  {
   "cell_type": "code",
   "execution_count": 1,
   "metadata": {
    "collapsed": false
   },
   "outputs": [],
   "source": [
    "import sys\n",
    "import time\n",
    "\n",
    "import numpy as np\n",
    "import tensorflow as tf\n",
    "\n",
    "sys.path.append('kni/magnolia/repo-karllab41/')\n",
    "\n",
    "from src.dnnseparate.L41model import L41Model\n",
    "\n",
    "from src.utils.clustering_utils import clustering_separate, get_cluster_masks, process_signal\n",
    "\n",
    "from src.features.mixer import FeatureMixer\n",
    "from src.features.supervised_iterator import SupervisedIterator, SupervisedMixer\n",
    "from src.features.hdf5_iterator import SplitsIterator\n",
    "from src.features.spectral_features import istft\n",
    "from src.features.data_preprocessing import undo_preemphasis\n",
    "from src.utils.bss_eval import bss_eval_sources\n",
    "\n",
    "import IPython\n",
    "from IPython.display import display, Audio\n",
    "from matplotlib import pyplot as plt\n",
    "fig_size = [0,0]\n",
    "fig_size[0] = 8\n",
    "fig_size[1] = 4\n",
    "plt.rcParams[\"figure.figsize\"] = fig_size"
   ]
  },
  {
   "cell_type": "markdown",
   "metadata": {},
   "source": [
    "### Set up data I/O"
   ]
  },
  {
   "cell_type": "code",
   "execution_count": 2,
   "metadata": {
    "collapsed": false
   },
   "outputs": [],
   "source": [
    "fft_size = 512\n",
    "\n",
    "numsources = 2\n",
    "batchsize = 256\n",
    "datashape = (40, 257)\n",
    "embedding_size = 600\n",
    "libridev='/local_data/teams/magnolia/processed_dev-clean.h5'\n",
    "libritrain='/local_data/teams/magnolia/processed_train-clean-100.h5'\n",
    "libritest='/local_data/teams/magnolia/processed_test_clean.h5'\n",
    "\n",
    "with open('kni/magnolia/repo-karllab41/data/librispeech/authors/train-clean-100-F.txt','r') as speakers:\n",
    "    in_set_F = speakers.read().splitlines()\n",
    "    \n",
    "with open('kni/magnolia/repo-karllab41/data/librispeech/authors/train-clean-100-M.txt','r') as speakers:\n",
    "    in_set_M = speakers.read().splitlines()\n",
    "\n",
    "with open('kni/magnolia/repo-karllab41/data/librispeech/authors/test-clean-F.txt','r') as speakers:\n",
    "    out_set_F = speakers.read().splitlines()\n",
    "    \n",
    "with open('kni/magnolia/repo-karllab41/data/librispeech/authors/test-clean-M.txt','r') as speakers:\n",
    "    out_set_M = speakers.read().splitlines()    \n",
    "    \n",
    "in_set_all = in_set_F + in_set_M\n",
    "out_set_all = out_set_F + out_set_M"
   ]
  },
  {
   "cell_type": "markdown",
   "metadata": {},
   "source": [
    "### Create an instance of Lab41's model"
   ]
  },
  {
   "cell_type": "code",
   "execution_count": 3,
   "metadata": {
    "collapsed": false
   },
   "outputs": [
    {
     "name": "stdout",
     "output_type": "stream",
     "text": [
      "INFO:tensorflow:Restoring parameters from lab41_nonorm-final.ckpt\n"
     ]
    }
   ],
   "source": [
    "model = L41Model(nonlinearity='tanh')\n",
    "model.initialize()\n",
    "# model.load('lab41_model-x-restart.ckpt')\n",
    "model.load('lab41_nonorm-final.ckpt')\n",
    "\n",
    "sample_rate = 1e4\n",
    "overlap = 0.0256"
   ]
  },
  {
   "cell_type": "code",
   "execution_count": 4,
   "metadata": {
    "collapsed": false
   },
   "outputs": [],
   "source": [
    "def invert_spectrogram(magnitude,phase):\n",
    "    return istft(np.square(magnitude)*np.exp(phase*1.0j),sample_rate,None,overlap,two_sided=False,fft_size=fft_size)\n",
    "\n",
    "def bss_eval_sample(mixer, num_sources):\n",
    "    data = next(mixer)\n",
    "    \n",
    "    mixes = [invert_spectrogram(np.abs(data[0]),np.unwrap(np.angle(data[0]))) for i in range(1,num_sources + 1)]\n",
    "    sources = [invert_spectrogram(np.abs(data[i][1]),np.unwrap(np.angle(data[i][1]))) for i in range(1,num_sources + 1)]\n",
    "    \n",
    "    mixes = [undo_preemphasis(mix) for mix in mixes]\n",
    "    sources = [undo_preemphasis(source) for source in sources]\n",
    "    \n",
    "    input_mix = np.stack(mixes)\n",
    "    reference_sources = np.stack(sources)\n",
    "    estimated_sources = clustering_separate(mixes[0],1e4,model,num_sources)\n",
    "    \n",
    "    do_nothing = bss_eval_sources(reference_sources, input_mix)\n",
    "    do_something = bss_eval_sources(reference_sources, estimated_sources)\n",
    "    \n",
    "    sdr = do_something[0] - do_nothing[0]\n",
    "    sir = do_something[1] - do_nothing[1]\n",
    "    sar = do_something[2] - do_nothing[2]\n",
    "    \n",
    "    return {'SDR': sdr, 'SIR': sir, 'SAR': sar}\n",
    "\n",
    "def bss_eval(mixer, num_sources, num_samples):\n",
    "    SDR = np.zeros(num_samples)\n",
    "    SIR = np.zeros(num_samples)\n",
    "    SAR = np.zeros(num_samples)\n",
    "    \n",
    "    for i in range(num_samples):\n",
    "        evals = bss_eval_sample(mixer, 2)\n",
    "        SDR[i] = 1/(2)*(evals['SDR'][0] + evals['SDR'][1])\n",
    "        SIR[i] = 1/(2)*(evals['SIR'][0] + evals['SIR'][1])\n",
    "        SAR[i] = 1/(2)*(evals['SAR'][0] + evals['SAR'][1])\n",
    "    \n",
    "    return SDR, SIR, SAR"
   ]
  },
  {
   "cell_type": "markdown",
   "metadata": {},
   "source": [
    "## Two Speaker In-Set Breakdown\n",
    "\n",
    "Categories are:\n",
    "1. MM\n",
    "2. FF\n",
    "3. MF\n",
    "4. FM"
   ]
  },
  {
   "cell_type": "code",
   "execution_count": null,
   "metadata": {
    "collapsed": false
   },
   "outputs": [],
   "source": [
    "maleiter = SplitsIterator([0.8,0.1,0.1], libritrain, speaker_keys=in_set_M, shape=(150,257), return_key=True)\n",
    "maleiter.set_split(2)\n",
    "\n",
    "femaleiter = SplitsIterator([0.8,0.1,0.1], libritrain, speaker_keys=in_set_F, shape=(150,257), return_key=True)\n",
    "femaleiter.set_split(2)\n",
    "\n",
    "samples = 500\n",
    "MMmixer = SupervisedMixer([maleiter,maleiter], shape=(150,257), \n",
    "                          mix_method='add', diffseed=True)\n",
    "FFmixer = SupervisedMixer([femaleiter,femaleiter], shape=(150,257), \n",
    "                          mix_method='add', diffseed=True)\n",
    "MFmixer = SupervisedMixer([maleiter,femaleiter], shape=(150,257), \n",
    "                          mix_method='add', diffseed=True)\n",
    "FMmixer = SupervisedMixer([femaleiter,maleiter], shape=(150,257), \n",
    "                          mix_method='add', diffseed=True)\n",
    "mixers = [MMmixer, FFmixer, MFmixer, FMmixer]\n",
    "mixerdesc = ['MM','FF','MF','FM']\n",
    "mixersSDR = [[],[],[],[]]\n",
    "mixersSIR = [[],[],[],[]]\n",
    "mixersSAR = [[],[],[],[]]\n",
    "    \n",
    "i=0"
   ]
  },
  {
   "cell_type": "code",
   "execution_count": null,
   "metadata": {
    "collapsed": false
   },
   "outputs": [
    {
     "name": "stdout",
     "output_type": "stream",
     "text": [
      "[[11.995698093174854, 3.2096836574247449, 6.5497783415518196], [1.6232347781554894, 5.6567946646792659], [10.82840196316549, 7.5670886051422777], [15.876295855126564, 10.530285179232258]]"
     ]
    }
   ],
   "source": [
    "num_samples = 500\n",
    "try:\n",
    "    starti = i\n",
    "except:\n",
    "    starti = 0\n",
    "\n",
    "for i in range(starti, samples):\n",
    "    for j,mixer in enumerate(mixers):\n",
    "        evals = bss_eval_sample(mixer, 2)\n",
    "        mixersSDR[j].append( 1/(2)*(evals['SDR'][0] + evals['SDR'][1]) )\n",
    "        mixersSIR[j].append( 1/(2)*(evals['SIR'][0] + evals['SIR'][1]) )\n",
    "        mixersSAR[j].append( 1/(2)*(evals['SAR'][0] + evals['SAR'][1]) )\n",
    "        # if j >= 2 and i > 250:\n",
    "        #     continue\n",
    "        sys.stdout.write('\\r'+str(mixersSDR))"
   ]
  },
  {
   "cell_type": "code",
   "execution_count": null,
   "metadata": {
    "collapsed": false
   },
   "outputs": [],
   "source": [
    "MMSDR = np.mean(mixersSDR[0])\n",
    "FFSDR = np.mean(mixersSDR[1])\n",
    "MFSDR = np.mean(mixersSDR[2][251:500])\n",
    "FMSDR = np.mean(mixersSDR[3][251:500])\n",
    "\n",
    "print('MM: ', MMSDR, ', FF: ', FFSDR, ', MF: ', (MFSDR+FMSDR)/2, ', All: ', (MMSDR+FMSDR+MFSDR+FFSDR)/4)\n",
    "np.savez( 'In-Set Mixer Metrics.npz', mixersSDR=mixersSDR, mixersSAR=mixersSAR, mixersSIR=mixersSIR)"
   ]
  },
  {
   "cell_type": "markdown",
   "metadata": {},
   "source": [
    "## Out of Set Mixer"
   ]
  },
  {
   "cell_type": "code",
   "execution_count": null,
   "metadata": {
    "collapsed": true
   },
   "outputs": [],
   "source": [
    "omaleiter = SplitsIterator([0.8,0.1,0.1], libritest, speaker_keys=out_set_M, shape=(150,257), return_key=True)\n",
    "omaleiter.set_split(2)\n",
    "\n",
    "ofemaleiter = SplitsIterator([0.8,0.1,0.1], libritest, speaker_keys=out_set_F, shape=(150,257), return_key=True)\n",
    "ofemaleiter.set_split(2)\n",
    "\n",
    "samples = 500\n",
    "oMMmixer = SupervisedMixer([omaleiter,omaleiter], shape=(150,257), \n",
    "                          mix_method='add', diffseed=True)\n",
    "oFFmixer = SupervisedMixer([ofemaleiter,ofemaleiter], shape=(150,257), \n",
    "                          mix_method='add', diffseed=True)\n",
    "oMFmixer = SupervisedMixer([omaleiter,ofemaleiter], shape=(150,257), \n",
    "                          mix_method='add', diffseed=True)\n",
    "oFMmixer = SupervisedMixer([ofemaleiter,omaleiter], shape=(150,257), \n",
    "                          mix_method='add', diffseed=True)\n",
    "omixers = [oMMmixer, oFFmixer, oMFmixer, oFMmixer]\n",
    "omixerdesc = ['MM','FF','MF','FM']\n",
    "omixersSDR = [[],[],[],[]]\n",
    "omixersSIR = [[],[],[],[]]\n",
    "omixersSAR = [[],[],[],[]]\n",
    "    \n",
    "i=0"
   ]
  },
  {
   "cell_type": "code",
   "execution_count": null,
   "metadata": {
    "collapsed": false
   },
   "outputs": [],
   "source": [
    "num_samples = 500\n",
    "try:\n",
    "    starti = i\n",
    "except:\n",
    "    starti = 0\n",
    "\n",
    "for i in range(starti, samples):\n",
    "    for j,mixer in enumerate(omixers):\n",
    "        evals = bss_eval_sample(mixer, 2)\n",
    "        omixersSDR[j].append( 1/(2)*(evals['SDR'][0] + evals['SDR'][1]) )\n",
    "        omixersSIR[j].append( 1/(2)*(evals['SIR'][0] + evals['SIR'][1]) )\n",
    "        omixersSAR[j].append( 1/(2)*(evals['SAR'][0] + evals['SAR'][1]) )\n",
    "        \n",
    "        sys.stdout.write('\\r[i]= '+str(i)+', MM: '+str(np.mean(omixersSDR[0]))+', FF: '+str(FFSDR)+', MF: '+ \n",
    "                         str((MFSDR+FMSDR)/2)+', All: '+str((MMSDR+FMSDR+MFSDR+FFSDR)/4))"
   ]
  },
  {
   "cell_type": "code",
   "execution_count": null,
   "metadata": {
    "collapsed": false
   },
   "outputs": [],
   "source": [
    "oMMSDR = np.mean(omixersSDR[0])\n",
    "oFFSDR = np.mean(omixersSDR[1])\n",
    "oMFSDR = np.mean(omixersSDR[2])\n",
    "oFMSDR = np.mean(omixersSDR[3])\n",
    "\n",
    "print('MM: ', oMMSDR, ', FF: ', oFFSDR, ', MF: ', (oMFSDR+oFMSDR)/2, ', All: ', (oMMSDR+oFMSDR+oMFSDR+oFFSDR)/4)\n",
    "np.savez( 'Out-of-Set Mixer Metrics.npz', omixersSDR=omixersSDR, omixersSAR=omixersSAR, omixersSIR=omixersSIR)"
   ]
  },
  {
   "cell_type": "markdown",
   "metadata": {
    "collapsed": true
   },
   "source": [
    "# Three Speakers\n",
    "\n",
    "## In-Set Three Speaker Evaluation"
   ]
  },
  {
   "cell_type": "code",
   "execution_count": null,
   "metadata": {
    "collapsed": false
   },
   "outputs": [],
   "source": [
    "fulliter = SplitsIterator([0.8,0.1,0.1], libritrain, shape=(150,257), return_key=True)\n",
    "fulliter.set_split(2)\n",
    "\n",
    "samples = 500\n",
    "mixer = SupervisedMixer([fulliter,fulliter,fulliter], shape=(150,257), \n",
    "                          mix_method='add', diffseed=True)\n",
    "fmixersSDR = []\n",
    "fmixersSIR = []\n",
    "fmixersSAR = []\n",
    "    \n",
    "i=0"
   ]
  },
  {
   "cell_type": "code",
   "execution_count": null,
   "metadata": {
    "collapsed": false
   },
   "outputs": [],
   "source": [
    "num_samples = 500\n",
    "try:\n",
    "    starti = i\n",
    "except:\n",
    "    starti = 0\n",
    "\n",
    "for i in range(starti, samples):\n",
    "    evals = bss_eval_sample(mixer, 3)\n",
    "    fmixersSDR.append( 1/(2)*(evals['SDR'][0] + evals['SDR'][1]) )\n",
    "    fmixersSIR.append( 1/(2)*(evals['SIR'][0] + evals['SIR'][1]) )\n",
    "    fmixersSAR.append( 1/(2)*(evals['SAR'][0] + evals['SAR'][1]) )\n",
    "        \n",
    "    sys.stdout.write('\\r[i]= '+str(i))"
   ]
  },
  {
   "cell_type": "code",
   "execution_count": null,
   "metadata": {
    "collapsed": false
   },
   "outputs": [],
   "source": [
    "np.savez('Three-Speaker In-Set Metrics.npz', fmixersSDR=fmixersSDR, fmixersSIR=fmixersSIR, fmixersSAR=fmixersSAR)"
   ]
  },
  {
   "cell_type": "markdown",
   "metadata": {},
   "source": [
    "## Out-of-Set Three Speaker Evaluation"
   ]
  },
  {
   "cell_type": "code",
   "execution_count": null,
   "metadata": {
    "collapsed": true
   },
   "outputs": [],
   "source": [
    "omaleiter = SplitsIterator([0.8,0.1,0.1], libritest, speaker_keys=out_set_M, shape=(150,257), return_key=True)\n",
    "omaleiter.set_split(2)\n",
    "samples = 500\n",
    "\n",
    "omixer = SupervisedMixer([omaleiter,omaleiter,omaleiter], shape=(150,257), \n",
    "                          mix_method='add', diffseed=True)\n",
    "ofmixersSDR = []\n",
    "ofmixersSIR = []\n",
    "ofmixersSAR = []\n",
    "    \n",
    "i=0"
   ]
  },
  {
   "cell_type": "code",
   "execution_count": null,
   "metadata": {
    "collapsed": false
   },
   "outputs": [],
   "source": [
    "num_samples = 500\n",
    "try:\n",
    "    starti = i\n",
    "except:\n",
    "    starti = 0\n",
    "\n",
    "for i in range(starti, samples):\n",
    "    evals = bss_eval_sample(omixer, 3)\n",
    "    ofmixersSDR.append( 1/(2)*(evals['SDR'][0] + evals['SDR'][1]) )\n",
    "    ofmixersSIR.append( 1/(2)*(evals['SIR'][0] + evals['SIR'][1]) )\n",
    "    ofmixersSAR.append( 1/(2)*(evals['SAR'][0] + evals['SAR'][1]) )\n",
    "        \n",
    "    sys.stdout.write('\\r[i]= '+str(i))"
   ]
  },
  {
   "cell_type": "code",
   "execution_count": null,
   "metadata": {
    "collapsed": false
   },
   "outputs": [],
   "source": [
    "ofSDR = np.mean(ofmixersSDR)\n",
    "print('SDR: ', ofSDR)\n",
    "\n",
    "np.savez('Three-Speaker Out-Set Metrics.npz', ofmixersSAR=ofmixersSAR, ofmixersSDR=ofmixersSDR,ofmixersSIR=ofmixersSIR)"
   ]
  }
 ],
 "metadata": {
  "anaconda-cloud": {},
  "kernelspec": {
   "display_name": "tensorflow1.1",
   "language": "python",
   "name": "tf1.1"
  }
 },
 "nbformat": 4,
 "nbformat_minor": 2
}
