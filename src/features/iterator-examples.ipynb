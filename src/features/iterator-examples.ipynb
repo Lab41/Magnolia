{
 "cells": [
  {
   "cell_type": "code",
   "execution_count": 1,
   "metadata": {
    "collapsed": false
   },
   "outputs": [],
   "source": [
    "## Standard python libraries\n",
    "import numpy as np\n",
    "import time\n",
    "import sys\n",
    "import matplotlib.pylab as plt\n",
    "%matplotlib inline\n",
    "# %pdb\n",
    "\n",
    "## Magnolia data iteration\n",
    "sys.path.append('../../')\n",
    "from src.features.mixer import FeatureMixer\n",
    "from src.features.wav_iterator import batcher\n",
    "from src.features.supervised_iterator import SupervisedIterator, SupervisedMixer\n",
    "from src.features.hdf5_iterator import Hdf5Iterator, SplitsIterator"
   ]
  },
  {
   "cell_type": "markdown",
   "metadata": {},
   "source": [
    "## LibriSpeech Dev File"
   ]
  },
  {
   "cell_type": "code",
   "execution_count": 2,
   "metadata": {
    "collapsed": false
   },
   "outputs": [],
   "source": [
    "batchsize = 1024\n",
    "datashape = (64, 257)\n",
    "libridev='/local_data/teams/magnolia/librispeech/processed_dev-clean.h5'\n",
    "# libridev='/local_data/teams/magnolia/processed_train-clean-100.h5'"
   ]
  },
  {
   "cell_type": "markdown",
   "metadata": {},
   "source": [
    "### Feature Mixer\n",
    "\n",
    "Unsupervised (Non-labeled) feature mixer declaration with several iterators from mixed sources"
   ]
  },
  {
   "cell_type": "code",
   "execution_count": 3,
   "metadata": {
    "collapsed": false
   },
   "outputs": [
    {
     "name": "stdout",
     "output_type": "stream",
     "text": [
      "Regular feature mixer with 3 libridev sources timed at  3.282445 sec\n"
     ]
    }
   ],
   "source": [
    "mixer = FeatureMixer([libridev,libridev,libridev], shape=datashape, mix_method='add', diffseed=True, return_key=True)\n",
    "ti = time.clock()\n",
    "data_batch = mixer.get_batch(batchsize)\n",
    "tf = time.clock()\n",
    "print('Regular feature mixer with 3 libridev sources timed at ', (tf-ti), 'sec')"
   ]
  },
  {
   "cell_type": "markdown",
   "metadata": {},
   "source": [
    "### Supervised Feature Mixer\n",
    "Feature mixer declaration with same number of iterators from mixed sources"
   ]
  },
  {
   "cell_type": "code",
   "execution_count": 4,
   "metadata": {
    "collapsed": false
   },
   "outputs": [
    {
     "name": "stdout",
     "output_type": "stream",
     "text": [
      "Supervised feature mixer with 3 libridev sources timed at  3.2734059999999996 sec\n",
      "Shapes [X,Y] for out_TF=-1 is [ (1024, 64, 257) , (1024, 3, 257) ]\n",
      "Supervised feature mixer with 3 libridev sources timed at  3.436992 sec\n",
      "Shapes [X,Y] for out_TF=FullSpec is [ (1024, 64, 257) , (1024, 3, 1542) ]\n",
      "Supervised feature mixer with 3 libridev sources timed at  4.911866 sec\n",
      "Shapes [X,Y] for out_TF=FullSpec is [ (1024, 64, 257) , (1024, 3, 16448) ]\n"
     ]
    }
   ],
   "source": [
    "libriter = SupervisedIterator(libridev, shape=datashape)\n",
    "mixerter = SupervisedMixer([libridev,libridev,libridev], shape=datashape, \n",
    "                     mix_method='add', diffseed=True, return_key=True)\n",
    "# Check the time\n",
    "ti = time.clock()\n",
    "X, Y, I = mixerter.get_batch(batchsize)\n",
    "tf = time.clock()\n",
    "print('Supervised feature mixer with 3 libridev sources timed at ', (tf-ti), 'sec')\n",
    "print('Shapes [X,Y] for out_TF=-1 is [',X.shape,',',Y.shape,']')\n",
    "\n",
    "# Check the time for subset of array\n",
    "ti = time.clock()\n",
    "X, Y, I = mixerter.get_batch(batchsize,out_TF=[0,1,2,3,4,5])\n",
    "tf = time.clock()\n",
    "print('Supervised feature mixer with 3 libridev sources timed at ', (tf-ti), 'sec')\n",
    "print('Shapes [X,Y] for out_TF=FullSpec is [',X.shape,',',Y.shape,']')\n",
    "\n",
    "# Check the time for full spectra\n",
    "ti = time.clock()\n",
    "X, Y, I = mixerter.get_batch(batchsize,out_TF=None)\n",
    "tf = time.clock()\n",
    "print('Supervised feature mixer with 3 libridev sources timed at ', (tf-ti), 'sec')\n",
    "print('Shapes [X,Y] for out_TF=FullSpec is [',X.shape,',',Y.shape,']')\n"
   ]
  },
  {
   "cell_type": "markdown",
   "metadata": {
    "collapsed": true
   },
   "source": [
    "### Splits Iterator\n",
    "Specifying training splits and then let's say we have specified speakers. \n",
    "\n",
    "Speaker lists are stored in `data/librispeech/authors`:\n",
    "```\n",
    "dev-clean-F.txt  test-clean-F.txt  train-clean-100-F.txt\n",
    "dev-clean-M.txt  test-clean-M.txt  train-clean-100-M.txt\n",
    "```\n",
    "\n",
    "For this example, let's use `speaker_keys = dev-clean-M.txt`. You can actually pass in `speaker_keys` to both `Hdf5Iterator` and `SplitsIterator`. \n",
    "\n",
    "#### Operating the splits\n",
    "In the iterator class `SplitsIterator`, there is a variable called `split_list` that is a list of lists. Each of the lists in `split_list` has the names of the wav files in that split. So, `split_list[0]` is the $0^{th}$ split, which has the names of all the files in that list.\n",
    "\n",
    "To set the split number, you must call `set_split`, a method in class `SplitsIterator`. For example, if I want split $0$, then I would call:\n",
    "\n",
    "```\n",
    "iterator = SplitsIterator( [0.8, 0.1, 0.1], file_name, **kwargs )\n",
    "iterator.set_split[0]\n",
    "next(iterator)\n",
    "```\n",
    "\n",
    "The above code will: \n",
    "\n",
    "1. create a splits iterator with presumably a training, dev, and test set where each speaker has 80% of his files in the training set, 10% in the development set, and the remainder in the testing set.\n",
    "2. and set the split to the training split"
   ]
  },
  {
   "cell_type": "code",
   "execution_count": 5,
   "metadata": {
    "collapsed": false
   },
   "outputs": [
    {
     "name": "stdout",
     "output_type": "stream",
     "text": [
      "There are  40  people in libri-dev.\n",
      "of which  20  are female.\n",
      "In total, the number of items to be used is: \n",
      "1106  for split 0\n",
      "146  for split 1\n",
      "122  for split 2\n"
     ]
    }
   ],
   "source": [
    "split_ratio = [0.8, 0.1, 0.1]\n",
    "speaker_keys = open('../../data/librispeech/authors/dev-clean-F.txt','r').read().splitlines()\n",
    "\n",
    "# For reference, let's take an iterator with a ratio\n",
    "iterator_all = Hdf5Iterator(libridev, shape=(10,257))\n",
    "\n",
    "# Let's create a splits iterator with the split ratio\n",
    "iterator_split_keys = SplitsIterator(split_ratio, libridev, speaker_keys=speaker_keys, shape=(10,257))\n",
    "\n",
    "print( 'There are ', len( iterator_all.h5_groups ), ' people in libri-dev.' )\n",
    "print( 'of which ', len( iterator_split_keys.h5_groups ), ' are female.')\n",
    "print( 'In total, the number of items to be used is: ' )\n",
    "\n",
    "# Now, specify which splits\n",
    "iterator_split_keys.set_split(0)\n",
    "print( len(iterator_split_keys.h5_items), ' for split 0' )\n",
    "iterator_split_keys.set_split(1)\n",
    "print( len(iterator_split_keys.h5_items), ' for split 1' )\n",
    "iterator_split_keys.set_split(2)\n",
    "print( len(iterator_split_keys.h5_items), ' for split 2' )"
   ]
  },
  {
   "cell_type": "markdown",
   "metadata": {},
   "source": [
    "### Supervised splits iterator and mixer"
   ]
  },
  {
   "cell_type": "code",
   "execution_count": null,
   "metadata": {
    "collapsed": true
   },
   "outputs": [],
   "source": []
  }
 ],
 "metadata": {
  "kernelspec": {
   "display_name": "Python 3",
   "language": "python",
   "name": "python3"
  },
  "language_info": {
   "codemirror_mode": {
    "name": "ipython",
    "version": 3
   },
   "file_extension": ".py",
   "mimetype": "text/x-python",
   "name": "python",
   "nbconvert_exporter": "python",
   "pygments_lexer": "ipython3",
   "version": "3.5.3"
  }
 },
 "nbformat": 4,
 "nbformat_minor": 2
}
